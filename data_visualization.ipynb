{
 "cells": [
  {
   "cell_type": "code",
   "execution_count": 9,
   "id": "f2a05c5a-0a9e-492d-95db-f7f6bd96a4ef",
   "metadata": {},
   "outputs": [
    {
     "name": "stdout",
     "output_type": "stream",
     "text": [
      "C:\\Users\\Lucas\\Documents\\GitHub\\NFLBigDataBowl\n",
      "games.csv\n",
      "players.csv\n",
      "player_play.csv\n",
      "plays.csv\n",
      "tracking_week_1.csv\n",
      "tracking_week_2.csv\n",
      "tracking_week_3.csv\n",
      "tracking_week_4.csv\n",
      "tracking_week_5.csv\n",
      "tracking_week_6.csv\n",
      "tracking_week_7.csv\n",
      "tracking_week_8.csv\n",
      "tracking_week_9.csv\n",
      "         gameId  season  week   gameDate gameTimeEastern homeTeamAbbr  \\\n",
      "0    2022090800    2022     1   9/8/2022        20:20:00           LA   \n",
      "1    2022091100    2022     1  9/11/2022        13:00:00          ATL   \n",
      "2    2022091101    2022     1  9/11/2022        13:00:00          CAR   \n",
      "3    2022091102    2022     1  9/11/2022        13:00:00          CHI   \n",
      "4    2022091103    2022     1  9/11/2022        13:00:00          CIN   \n",
      "..          ...     ...   ...        ...             ...          ...   \n",
      "131  2022110607    2022     9  11/6/2022        13:00:00          WAS   \n",
      "132  2022110608    2022     9  11/6/2022        16:05:00          ARI   \n",
      "133  2022110609    2022     9  11/6/2022        16:25:00           TB   \n",
      "134  2022110610    2022     9  11/6/2022        20:20:00           KC   \n",
      "135  2022110700    2022     9  11/7/2022        20:15:00           NO   \n",
      "\n",
      "    visitorTeamAbbr  homeFinalScore  visitorFinalScore  \n",
      "0               BUF              10                 31  \n",
      "1                NO              26                 27  \n",
      "2               CLE              24                 26  \n",
      "3                SF              19                 10  \n",
      "4               PIT              20                 23  \n",
      "..              ...             ...                ...  \n",
      "131             MIN              17                 20  \n",
      "132             SEA              21                 31  \n",
      "133              LA              16                 13  \n",
      "134             TEN              20                 17  \n",
      "135             BAL              13                 27  \n",
      "\n",
      "[136 rows x 9 columns]\n"
     ]
    }
   ],
   "source": [
    "import pandas as pd\n",
    "import numpy as np\n",
    "import matplotlib\n",
    "import seaborn as sns\n",
    "import os\n",
    "\n",
    "print(os.getcwd())\n",
    "\n",
    "for file in os.listdir(os.getcwd() + '\\Data'):\n",
    "    print(file)\n",
    "\n",
    "games = pd.read_csv(os.getcwd() + '\\Data\\games.csv')\n",
    "\n",
    "print(games)"
   ]
  },
  {
   "cell_type": "code",
   "execution_count": null,
   "id": "d4253fad-0d2c-4440-ae26-3a63e36220a6",
   "metadata": {},
   "outputs": [],
   "source": []
  }
 ],
 "metadata": {
  "kernelspec": {
   "display_name": "Python 3 (ipykernel)",
   "language": "python",
   "name": "python3"
  },
  "language_info": {
   "codemirror_mode": {
    "name": "ipython",
    "version": 3
   },
   "file_extension": ".py",
   "mimetype": "text/x-python",
   "name": "python",
   "nbconvert_exporter": "python",
   "pygments_lexer": "ipython3",
   "version": "3.11.5"
  }
 },
 "nbformat": 4,
 "nbformat_minor": 5
}
